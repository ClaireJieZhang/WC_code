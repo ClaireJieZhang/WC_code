{
 "cells": [
  {
   "cell_type": "code",
   "execution_count": 1,
   "id": "4f78e6c6-399c-40dc-b236-6922a490f47d",
   "metadata": {},
   "outputs": [],
   "source": [
    "from sklearn.preprocessing import OrdinalEncoder"
   ]
  },
  {
   "cell_type": "code",
   "execution_count": 2,
   "id": "4407ed11-4092-49fb-bf33-ec7c10f998a3",
   "metadata": {},
   "outputs": [],
   "source": [
    "from fairlearn.datasets import fetch_adult"
   ]
  },
  {
   "cell_type": "code",
   "execution_count": 3,
   "id": "2254ae8f-9d0f-4439-9c4b-c94ab08d6386",
   "metadata": {},
   "outputs": [],
   "source": [
    "import argparse\n",
    "import pickle\n",
    "import matplotlib.pyplot as plt"
   ]
  },
  {
   "cell_type": "code",
   "execution_count": 4,
   "id": "ccfa7f78-91f3-45cf-b626-48bbce493fc2",
   "metadata": {},
   "outputs": [
    {
     "name": "stdout",
     "output_type": "stream",
     "text": [
      "Keys: dict_keys([4])\n",
      "Example: {'centers': array([[ 0.47465234,  0.04794199, -0.02872644,  0.15842713,  0.61884914,\n",
      "        -0.29794987,  0.08335696, -0.39159759,  0.11968731,  3.6439941 ,\n",
      "        -0.20707352,  0.3880614 ,  0.06799883,  1.33895106],\n",
      "       [-0.03294748, -0.04086685,  0.11166758, -2.04006575, -1.76255054,\n",
      "         0.19912226,  0.04102677,  0.13125945, -0.0629123 , -0.21882526,\n",
      "        -0.09645278, -0.34821312, -0.33599838, -0.47193583],\n",
      "       [-0.50583893, -0.12613795,  0.06604909,  0.35259111,  0.09523923,\n",
      "         0.61171056, -0.09927239,  0.6480194 , -0.20539558, -0.24357945,\n",
      "        -0.13453208, -0.32420137,  0.01105561, -0.48512588],\n",
      "       [ 0.40913006,  0.12214009, -0.08973901,  0.2429238 ,  0.33230354,\n",
      "        -0.58274855,  0.06791458, -0.58266907,  0.19156413, -0.25764889,\n",
      "         0.18453494,  0.34500698,  0.07747632,  0.38784976]]), 'clustering': array([1, 3, 3, ..., 2, 2, 0]), 'runtime': 0.1383985996246338, 'cost': array([11.60608997, 10.31571177]), 'centers_f': array([[ 4.16717135e-01, -1.82542967e-03, -4.36006825e-02,\n",
      "         1.66509541e-01,  6.22470594e-01, -2.49656112e-01,\n",
      "         6.03518224e-02,  6.79433275e-02,  9.75788838e-02,\n",
      "         3.63039190e+00, -2.07073522e-01,  2.87373623e-01,\n",
      "         7.26945235e-02,  1.25616002e+00],\n",
      "       [-7.03996407e-02, -7.53812774e-02,  7.19951276e-02,\n",
      "        -2.06741955e+00, -1.73105697e+00,  3.23069105e-01,\n",
      "         1.10484543e-01,  4.62741114e-01, -1.38511389e-01,\n",
      "        -2.25716868e-01, -1.11100842e-01, -5.04944976e-01,\n",
      "        -3.25850155e-01, -5.00849546e-01],\n",
      "       [-4.92307328e-01, -1.02886477e-01,  1.53369780e-02,\n",
      "         3.47659098e-01,  1.47395315e-01,  9.83263437e-01,\n",
      "        -6.78185472e-02,  6.22583691e-01, -1.90620929e-01,\n",
      "        -2.45873599e-01, -1.12877180e-01, -3.85986978e-01,\n",
      "         3.25672078e-02, -5.36852176e-01],\n",
      "       [ 3.46816867e-01,  2.11737012e-02, -7.40666213e-02,\n",
      "         2.67986143e-01,  2.70188372e-01, -8.86344955e-01,\n",
      "        -5.68906047e-02,  1.09669126e-01,  8.74220146e-02,\n",
      "        -2.57626414e-01,  9.76847245e-02,  1.51017754e-01,\n",
      "         5.88808871e-02,  2.07881887e-01]]), 'clustering_f': [array([2, 2, 2, ..., 2, 2, 0]), array([1, 3, 3, ..., 2, 3, 2])], 'runtime_f': 0.260239315032959, 'cost_f': array([10.92383646, 10.92383646])}\n",
      "Group-wise costs: [11.60608997 10.31571177] [10.92383646 10.92383646]\n"
     ]
    }
   ],
   "source": [
    "with open(\"results/adult_k4-4_results.pkl\", \"rb\") as f:\n",
    "    results = pickle.load(f)\n",
    "\n",
    "print(\"Keys:\", results.keys())  # Should be [4]\n",
    "print(\"Example:\", results[4])   # Should contain keys: 'cost', 'cost_f', etc.\n",
    "print(\"Group-wise costs:\", results[4]['cost'], results[4]['cost_f'])"
   ]
  },
  {
   "cell_type": "code",
   "execution_count": null,
   "id": "d47c9954-d780-425e-afe1-81c8ac094806",
   "metadata": {},
   "outputs": [],
   "source": []
  }
 ],
 "metadata": {
  "kernelspec": {
   "display_name": "Python 3 (ipykernel)",
   "language": "python",
   "name": "python3"
  },
  "language_info": {
   "codemirror_mode": {
    "name": "ipython",
    "version": 3
   },
   "file_extension": ".py",
   "mimetype": "text/x-python",
   "name": "python",
   "nbconvert_exporter": "python",
   "pygments_lexer": "ipython3",
   "version": "3.12.4"
  }
 },
 "nbformat": 4,
 "nbformat_minor": 5
}
