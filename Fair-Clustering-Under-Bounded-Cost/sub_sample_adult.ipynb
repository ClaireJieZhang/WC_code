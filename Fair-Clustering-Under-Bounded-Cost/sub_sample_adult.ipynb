{
 "cells": [
  {
   "cell_type": "code",
   "execution_count": 1,
   "id": "8a62643c-878c-40eb-b694-c94695151ee4",
   "metadata": {},
   "outputs": [
    {
     "name": "stdout",
     "output_type": "stream",
     "text": [
      "Group counts before balancing:\n",
      "race  sex\n",
      "0     0        119\n",
      "      1        192\n",
      "1     0        346\n",
      "      1        693\n",
      "2     0       1555\n",
      "      1       1569\n",
      "3     0        109\n",
      "      1        162\n",
      "4     0       8642\n",
      "      1      19174\n",
      "dtype: int64\n",
      "✅ Saved balanced subsampled_adult.csv with shape: (1000, 15)\n"
     ]
    },
    {
     "name": "stderr",
     "output_type": "stream",
     "text": [
      "/var/folders/1j/22vg_cq928gfby8tyvdcz9840000gn/T/ipykernel_2341/183299100.py:20: DeprecationWarning: DataFrameGroupBy.apply operated on the grouping columns. This behavior is deprecated, and in a future version of pandas the grouping columns will be excluded from the operation. Either pass `include_groups=False` to exclude the groupings or explicitly select the grouping columns after groupby to silence this warning.\n",
      "  .apply(lambda x: x.sample(n=min(len(x), n_per_group), random_state=42))\n"
     ]
    }
   ],
   "source": [
    "import pandas as pd\n",
    "\n",
    "# Load and encode\n",
    "df = pd.read_csv(\"data/adult.csv\")\n",
    "\n",
    "# Encode text columns like FCBC\n",
    "df['race'] = df['race'].astype('category').cat.codes\n",
    "df['sex'] = df['sex'].astype('category').cat.codes\n",
    "\n",
    "# Confirm combinations\n",
    "print(\"Group counts before balancing:\")\n",
    "print(df.groupby(['race', 'sex']).size())\n",
    "\n",
    "# Set how many per (race, sex) group\n",
    "n_per_group = 100\n",
    "\n",
    "# Balance across all (race, sex) pairs\n",
    "balanced = (\n",
    "    df.groupby(['race', 'sex'], group_keys=False)\n",
    "      .apply(lambda x: x.sample(n=min(len(x), n_per_group), random_state=42))\n",
    ")\n",
    "\n",
    "balanced = balanced.reset_index(drop=True)\n",
    "\n",
    "# Save\n",
    "balanced.to_csv(\"data/subsampled_adult.csv\", index=False)\n",
    "\n",
    "print(\"✅ Saved balanced subsampled_adult.csv with shape:\", balanced.shape)\n"
   ]
  },
  {
   "cell_type": "code",
   "execution_count": null,
   "id": "656786b3-b088-41e7-8e85-2c0be04091bd",
   "metadata": {},
   "outputs": [],
   "source": []
  }
 ],
 "metadata": {
  "kernelspec": {
   "display_name": "Python (cplex-env)",
   "language": "python",
   "name": "cplex-env"
  },
  "language_info": {
   "codemirror_mode": {
    "name": "ipython",
    "version": 3
   },
   "file_extension": ".py",
   "mimetype": "text/x-python",
   "name": "python",
   "nbconvert_exporter": "python",
   "pygments_lexer": "ipython3",
   "version": "3.10.17"
  }
 },
 "nbformat": 4,
 "nbformat_minor": 5
}
