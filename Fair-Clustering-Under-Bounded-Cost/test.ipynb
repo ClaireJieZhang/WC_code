{
 "cells": [
  {
   "cell_type": "code",
   "execution_count": 3,
   "id": "d20939db-9f97-4649-9b51-75c9b4a1d4f8",
   "metadata": {},
   "outputs": [
    {
     "name": "stdout",
     "output_type": "stream",
     "text": [
      "\n",
      "\n",
      " BOUND\n",
      "0.0\n",
      "0\n",
      "{0: 1.0, 1: 1.0}\n",
      "1\n",
      "{0: 1.0, 1: 1.0}\n",
      "0\n",
      "{0: 1.0, 1: 1.0}\n",
      "{0: {0: 0.999999, 1: 1.0}, 1: {0: 0.999999, 1: 1.0}}\n",
      "{0: {0: 1e-06, 1: 1.0}, 1: {0: 1.0, 1: 1.0}}\n",
      "1\n",
      "{0: 1.0, 1: 1.0}\n",
      "{0: {0: 0.999999, 1: 1.0}, 1: {0: 0.999999, 1: 1.0}}\n",
      "{0: {0: 1e-06, 1: 1.0}, 1: {0: 1e-06, 1: 1.0}}\n",
      "Initializing Cplex model\n",
      "Starting to add variables...\n",
      "HERE FIRST\n",
      "<class 'list'>\n",
      "[[0.7882513646553515, 3.7029063842204275, 1.637022794299018, 0.5270824295673577, -1.8613793285457543], [1.1801228997889521, 4.969792936529274, 2.479579561314051, 1.1276022458430548, -0.8646069141097392], [1.7978068481879732, -1.269187182557423, 7.765693580664335, 9.660856865214427, -3.0999736708877412], [2.431565822144501, -0.1422231513330623, 7.550552056014327, 9.297551877095554, -1.8800054332184029], [3.245528146166449, -1.6955477058288135, 7.820170994678503, 8.763910759988113, -2.2750479124282057]]\n",
      "Completed. Time for creating and adding variable = 0.0006056100010027876\n",
      "Starting to add constraints...\n"
     ]
    },
    {
     "ename": "TypeError",
     "evalue": "'int' object is not subscriptable",
     "output_type": "error",
     "traceback": [
      "\u001b[0;31m---------------------------------------------------------------------------\u001b[0m",
      "\u001b[0;31mTypeError\u001b[0m                                 Traceback (most recent call last)",
      "Cell \u001b[0;32mIn[3], line 32\u001b[0m\n\u001b[1;32m     29\u001b[0m distance_matrix \u001b[38;5;241m=\u001b[39m cdist(X, centers, metric\u001b[38;5;241m=\u001b[39m\u001b[38;5;124m\"\u001b[39m\u001b[38;5;124msqeuclidean\u001b[39m\u001b[38;5;124m\"\u001b[39m)\n\u001b[1;32m     31\u001b[0m \u001b[38;5;66;03m# Run FCBC pipeline\u001b[39;00m\n\u001b[0;32m---> 32\u001b[0m res \u001b[38;5;241m=\u001b[39m \u001b[43mfair_partial_assignment_util\u001b[49m\u001b[43m(\u001b[49m\n\u001b[1;32m     33\u001b[0m \u001b[43m    \u001b[49m\u001b[43mdf\u001b[49m\u001b[38;5;241;43m=\u001b[39;49m\u001b[43mpd\u001b[49m\u001b[38;5;241;43m.\u001b[39;49m\u001b[43mDataFrame\u001b[49m\u001b[43m(\u001b[49m\u001b[43mX\u001b[49m\u001b[43m)\u001b[49m\u001b[43m,\u001b[49m\n\u001b[1;32m     34\u001b[0m \u001b[43m    \u001b[49m\u001b[43mcenters\u001b[49m\u001b[38;5;241;43m=\u001b[39;49m\u001b[43mcenters\u001b[49m\u001b[43m,\u001b[49m\n\u001b[1;32m     35\u001b[0m \u001b[43m    \u001b[49m\u001b[43minitial_score\u001b[49m\u001b[38;5;241;43m=\u001b[39;49m\u001b[43mdistance_matrix\u001b[49m\u001b[43m,\u001b[49m\n\u001b[1;32m     36\u001b[0m \u001b[43m    \u001b[49m\u001b[43mdelta\u001b[49m\u001b[38;5;241;43m=\u001b[39;49m\u001b[38;5;241;43m0.05\u001b[39;49m\u001b[43m,\u001b[49m\n\u001b[1;32m     37\u001b[0m \u001b[43m    \u001b[49m\u001b[43mcolor_proprtions\u001b[49m\u001b[38;5;241;43m=\u001b[39;49m\u001b[43mcolor_proportions\u001b[49m\u001b[43m,\u001b[49m\n\u001b[1;32m     38\u001b[0m \u001b[43m    \u001b[49m\u001b[43malpha\u001b[49m\u001b[38;5;241;43m=\u001b[39;49m\u001b[43malpha\u001b[49m\u001b[43m,\u001b[49m\n\u001b[1;32m     39\u001b[0m \u001b[43m    \u001b[49m\u001b[43mbeta\u001b[49m\u001b[38;5;241;43m=\u001b[39;49m\u001b[43mbeta\u001b[49m\u001b[43m,\u001b[49m\n\u001b[1;32m     40\u001b[0m \u001b[43m    \u001b[49m\u001b[43mcolor_flag\u001b[49m\u001b[38;5;241;43m=\u001b[39;49m\u001b[43mcolor_flag\u001b[49m\u001b[43m,\u001b[49m\n\u001b[1;32m     41\u001b[0m \u001b[43m    \u001b[49m\u001b[43mclustering_method\u001b[49m\u001b[38;5;241;43m=\u001b[39;49m\u001b[38;5;124;43m\"\u001b[39;49m\u001b[38;5;124;43mkmeans\u001b[39;49m\u001b[38;5;124;43m\"\u001b[39;49m\u001b[43m,\u001b[49m\n\u001b[1;32m     42\u001b[0m \u001b[43m    \u001b[49m\u001b[43mnum_colors\u001b[49m\u001b[38;5;241;43m=\u001b[39;49m\u001b[43mnum_colors\u001b[49m\u001b[43m,\u001b[49m\n\u001b[1;32m     43\u001b[0m \u001b[43m    \u001b[49m\u001b[43mL\u001b[49m\u001b[38;5;241;43m=\u001b[39;49m\u001b[38;5;28;43;01mNone\u001b[39;49;00m\u001b[43m,\u001b[49m\n\u001b[1;32m     44\u001b[0m \u001b[43m    \u001b[49m\u001b[43mepsilon\u001b[49m\u001b[38;5;241;43m=\u001b[39;49m\u001b[38;5;241;43m1e-5\u001b[39;49m\u001b[43m,\u001b[49m\n\u001b[1;32m     45\u001b[0m \u001b[43m    \u001b[49m\u001b[43malpha_POF\u001b[49m\u001b[38;5;241;43m=\u001b[39;49m\u001b[38;5;241;43m1\u001b[39;49m\u001b[43m,\u001b[49m\n\u001b[1;32m     46\u001b[0m \u001b[43m)\u001b[49m\n\u001b[1;32m     48\u001b[0m \u001b[38;5;28mprint\u001b[39m(\u001b[38;5;124m\"\u001b[39m\u001b[38;5;124m✅ FCBC pipeline ran successfully\u001b[39m\u001b[38;5;124m\"\u001b[39m)\n\u001b[1;32m     49\u001b[0m \u001b[38;5;28mprint\u001b[39m(\u001b[38;5;124m\"\u001b[39m\u001b[38;5;124mFinal objective:\u001b[39m\u001b[38;5;124m\"\u001b[39m, res[\u001b[38;5;124m\"\u001b[39m\u001b[38;5;124mobjective\u001b[39m\u001b[38;5;124m\"\u001b[39m])\n",
      "File \u001b[0;32m~/FCBC_code/Fair-Clustering-Under-Bounded-Cost/cplex_fair_assignment_lp_solver_util.py:37\u001b[0m, in \u001b[0;36mfair_partial_assignment_util\u001b[0;34m(df, centers, initial_score, delta, color_proprtions, alpha, beta, color_flag, clustering_method, num_colors, L, epsilon, alpha_POF)\u001b[0m\n\u001b[1;32m     35\u001b[0m m_viol_idx \u001b[38;5;241m=\u001b[39m \u001b[38;5;28mint\u001b[39m(np\u001b[38;5;241m.\u001b[39mfloor((L_viol_idx \u001b[38;5;241m+\u001b[39m R_viol_idx) \u001b[38;5;241m/\u001b[39m \u001b[38;5;241m2\u001b[39m)) \n\u001b[1;32m     36\u001b[0m alpha_relax, beta_relax \u001b[38;5;241m=\u001b[39m relax_util_viol(beta_min,beta_max,alpha_min,alpha_max, alpha,beta,col_min,col_max,delta,r_min,r_max,E_eps[m_viol_idx])\n\u001b[0;32m---> 37\u001b[0m problem, objective \u001b[38;5;241m=\u001b[39m \u001b[43mfair_partial_assignment_lp_solver\u001b[49m\u001b[43m(\u001b[49m\u001b[43mdf\u001b[49m\u001b[43m,\u001b[49m\u001b[43m \u001b[49m\u001b[43mcenters\u001b[49m\u001b[43m,\u001b[49m\u001b[43m \u001b[49m\u001b[43minitial_score\u001b[49m\u001b[43m,\u001b[49m\u001b[43m \u001b[49m\u001b[43malpha_POF\u001b[49m\u001b[43m,\u001b[49m\u001b[43m \u001b[49m\u001b[43mcolor_flag\u001b[49m\u001b[43m,\u001b[49m\u001b[43m \u001b[49m\u001b[43malpha_relax\u001b[49m\u001b[43m,\u001b[49m\u001b[43m \u001b[49m\u001b[43mbeta_relax\u001b[49m\u001b[43m,\u001b[49m\u001b[43m \u001b[49m\u001b[43mcost_fun_string\u001b[49m\u001b[43m,\u001b[49m\u001b[43m \u001b[49m\u001b[43mL\u001b[49m\u001b[43m,\u001b[49m\u001b[43m \u001b[49m\u001b[43mclustering_method\u001b[49m\u001b[43m)\u001b[49m\n\u001b[1;32m     38\u001b[0m problem\u001b[38;5;241m.\u001b[39msolve()\n\u001b[1;32m     40\u001b[0m \u001b[38;5;66;03m# if the problem is infeasible, then you need a higher violation \u001b[39;00m\n",
      "File \u001b[0;32m~/FCBC_code/Fair-Clustering-Under-Bounded-Cost/cplex_fair_assignment_lp_solver_util.py:284\u001b[0m, in \u001b[0;36mfair_partial_assignment_lp_solver\u001b[0;34m(df, centers, initial_score, alpha_POF, color_flag, alpha, beta, cost_fun_string, L, clustering_method)\u001b[0m\n\u001b[1;32m    282\u001b[0m \u001b[38;5;28mprint\u001b[39m(\u001b[38;5;124m\"\u001b[39m\u001b[38;5;124mStarting to add constraints...\u001b[39m\u001b[38;5;124m\"\u001b[39m)\n\u001b[1;32m    283\u001b[0m t1 \u001b[38;5;241m=\u001b[39m time\u001b[38;5;241m.\u001b[39mmonotonic()\n\u001b[0;32m--> 284\u001b[0m objects_returned \u001b[38;5;241m=\u001b[39m \u001b[43mprepare_to_add_constraints\u001b[49m\u001b[43m(\u001b[49m\u001b[43mdf\u001b[49m\u001b[43m,\u001b[49m\u001b[43m \u001b[49m\u001b[43mcenters\u001b[49m\u001b[43m,\u001b[49m\u001b[43m \u001b[49m\u001b[43minitial_score\u001b[49m\u001b[43m,\u001b[49m\u001b[43m \u001b[49m\u001b[43malpha_POF\u001b[49m\u001b[43m,\u001b[49m\u001b[43m \u001b[49m\u001b[43mcolor_flag\u001b[49m\u001b[43m,\u001b[49m\u001b[43m \u001b[49m\u001b[43mbeta\u001b[49m\u001b[43m,\u001b[49m\u001b[43m \u001b[49m\u001b[43malpha\u001b[49m\u001b[43m,\u001b[49m\u001b[43m \u001b[49m\u001b[43mL\u001b[49m\u001b[43m,\u001b[49m\u001b[43m \u001b[49m\u001b[43mclustering_method\u001b[49m\u001b[43m)\u001b[49m\n\u001b[1;32m    285\u001b[0m constraints_row, senses, rhs, constraint_names \u001b[38;5;241m=\u001b[39m objects_returned\n\u001b[1;32m    286\u001b[0m problem\u001b[38;5;241m.\u001b[39mlinear_constraints\u001b[38;5;241m.\u001b[39madd(lin_expr\u001b[38;5;241m=\u001b[39mconstraints_row,\n\u001b[1;32m    287\u001b[0m                                senses\u001b[38;5;241m=\u001b[39msenses,\n\u001b[1;32m    288\u001b[0m                                rhs\u001b[38;5;241m=\u001b[39mrhs,\n\u001b[1;32m    289\u001b[0m                                names\u001b[38;5;241m=\u001b[39mconstraint_names)\n",
      "File \u001b[0;32m~/FCBC_code/Fair-Clustering-Under-Bounded-Cost/cplex_fair_assignment_lp_solver_util.py:422\u001b[0m, in \u001b[0;36mprepare_to_add_constraints\u001b[0;34m(df, centers, initial_score, alpha_POF, color_flag, beta, alpha, L, clustering_method)\u001b[0m\n\u001b[1;32m    411\u001b[0m var_color_flag, var_beta, var_alpha \u001b[38;5;241m=\u001b[39m color_flag[var], beta[var], alpha[var]\n\u001b[1;32m    412\u001b[0m \u001b[38;5;250m\u001b[39m\u001b[38;5;124;03m''' NOTE:\u001b[39;00m\n\u001b[1;32m    413\u001b[0m \u001b[38;5;124;03mprint('HHHEEHHEHEHEHEHEHEHEHEHEHEHEHEH')\u001b[39;00m\n\u001b[1;32m    414\u001b[0m \u001b[38;5;124;03mprint(var)\u001b[39;00m\n\u001b[0;32m   (...)\u001b[0m\n\u001b[1;32m    420\u001b[0m \u001b[38;5;124;03mprint(var_alpha)\u001b[39;00m\n\u001b[1;32m    421\u001b[0m \u001b[38;5;124;03m'''\u001b[39;00m \n\u001b[0;32m--> 422\u001b[0m color_constraint, color_rhs \u001b[38;5;241m=\u001b[39m \u001b[43mconstraint_color\u001b[49m\u001b[43m(\u001b[49m\u001b[43mnum_points\u001b[49m\u001b[43m,\u001b[49m\u001b[43m \u001b[49m\u001b[43mnum_centers\u001b[49m\u001b[43m,\u001b[49m\u001b[43m \u001b[49m\u001b[43mvar_color_flag\u001b[49m\u001b[43m,\u001b[49m\u001b[43m \u001b[49m\u001b[43mvar_beta\u001b[49m\u001b[43m,\u001b[49m\u001b[43m \u001b[49m\u001b[43mvar_alpha\u001b[49m\u001b[43m)\u001b[49m\n\u001b[1;32m    423\u001b[0m constraints_row\u001b[38;5;241m.\u001b[39mextend(color_constraint)\n\u001b[1;32m    424\u001b[0m rhs\u001b[38;5;241m.\u001b[39mextend(color_rhs)\n",
      "File \u001b[0;32m~/FCBC_code/Fair-Clustering-Under-Bounded-Cost/cplex_fair_assignment_lp_solver_util.py:510\u001b[0m, in \u001b[0;36mconstraint_color\u001b[0;34m(num_points, num_centers, color_flag, beta, alpha)\u001b[0m\n\u001b[1;32m    508\u001b[0m \u001b[38;5;28;01mdef\u001b[39;00m\u001b[38;5;250m \u001b[39m\u001b[38;5;21mconstraint_color\u001b[39m(num_points, num_centers, color_flag, beta, alpha):\n\u001b[0;32m--> 510\u001b[0m     beta_constraints \u001b[38;5;241m=\u001b[39m [[[\u001b[38;5;124m\"\u001b[39m\u001b[38;5;124mx_\u001b[39m\u001b[38;5;132;01m{}\u001b[39;00m\u001b[38;5;124m_\u001b[39m\u001b[38;5;132;01m{}\u001b[39;00m\u001b[38;5;124m\"\u001b[39m\u001b[38;5;241m.\u001b[39mformat(j, i) \u001b[38;5;28;01mfor\u001b[39;00m j \u001b[38;5;129;01min\u001b[39;00m \u001b[38;5;28mrange\u001b[39m(num_points)],\n\u001b[1;32m    511\u001b[0m                          [beta[color] \u001b[38;5;241m-\u001b[39m \u001b[38;5;241m1\u001b[39m \u001b[38;5;28;01mif\u001b[39;00m color_flag[j] \u001b[38;5;241m==\u001b[39m color \u001b[38;5;28;01melse\u001b[39;00m beta[color] \u001b[38;5;28;01mfor\u001b[39;00m j \u001b[38;5;129;01min\u001b[39;00m \u001b[38;5;28mrange\u001b[39m(num_points)]]\n\u001b[1;32m    512\u001b[0m                         \u001b[38;5;28;01mfor\u001b[39;00m i \u001b[38;5;129;01min\u001b[39;00m \u001b[38;5;28mrange\u001b[39m(num_centers) \u001b[38;5;28;01mfor\u001b[39;00m color, _ \u001b[38;5;129;01min\u001b[39;00m beta\u001b[38;5;241m.\u001b[39mitems()]\n\u001b[1;32m    513\u001b[0m     alpha_constraints \u001b[38;5;241m=\u001b[39m [[[\u001b[38;5;124m\"\u001b[39m\u001b[38;5;124mx_\u001b[39m\u001b[38;5;132;01m{}\u001b[39;00m\u001b[38;5;124m_\u001b[39m\u001b[38;5;132;01m{}\u001b[39;00m\u001b[38;5;124m\"\u001b[39m\u001b[38;5;241m.\u001b[39mformat(j, i) \u001b[38;5;28;01mfor\u001b[39;00m j \u001b[38;5;129;01min\u001b[39;00m \u001b[38;5;28mrange\u001b[39m(num_points)],\n\u001b[1;32m    514\u001b[0m                           [np\u001b[38;5;241m.\u001b[39mround(\u001b[38;5;241m1\u001b[39m \u001b[38;5;241m-\u001b[39m alpha[color], decimals\u001b[38;5;241m=\u001b[39m\u001b[38;5;241m3\u001b[39m) \u001b[38;5;28;01mif\u001b[39;00m color_flag[j] \u001b[38;5;241m==\u001b[39m color \u001b[38;5;28;01melse\u001b[39;00m (\u001b[38;5;241m-\u001b[39m\u001b[38;5;241m1\u001b[39m) \u001b[38;5;241m*\u001b[39m alpha[color]\n\u001b[1;32m    515\u001b[0m                            \u001b[38;5;28;01mfor\u001b[39;00m j \u001b[38;5;129;01min\u001b[39;00m \u001b[38;5;28mrange\u001b[39m(num_points)]]\n\u001b[1;32m    516\u001b[0m                          \u001b[38;5;28;01mfor\u001b[39;00m i \u001b[38;5;129;01min\u001b[39;00m \u001b[38;5;28mrange\u001b[39m(num_centers) \u001b[38;5;28;01mfor\u001b[39;00m color, _ \u001b[38;5;129;01min\u001b[39;00m beta\u001b[38;5;241m.\u001b[39mitems()]\n\u001b[1;32m    517\u001b[0m     constraints \u001b[38;5;241m=\u001b[39m beta_constraints \u001b[38;5;241m+\u001b[39m alpha_constraints\n",
      "File \u001b[0;32m~/FCBC_code/Fair-Clustering-Under-Bounded-Cost/cplex_fair_assignment_lp_solver_util.py:511\u001b[0m, in \u001b[0;36m<listcomp>\u001b[0;34m(.0)\u001b[0m\n\u001b[1;32m    508\u001b[0m \u001b[38;5;28;01mdef\u001b[39;00m\u001b[38;5;250m \u001b[39m\u001b[38;5;21mconstraint_color\u001b[39m(num_points, num_centers, color_flag, beta, alpha):\n\u001b[1;32m    510\u001b[0m     beta_constraints \u001b[38;5;241m=\u001b[39m [[[\u001b[38;5;124m\"\u001b[39m\u001b[38;5;124mx_\u001b[39m\u001b[38;5;132;01m{}\u001b[39;00m\u001b[38;5;124m_\u001b[39m\u001b[38;5;132;01m{}\u001b[39;00m\u001b[38;5;124m\"\u001b[39m\u001b[38;5;241m.\u001b[39mformat(j, i) \u001b[38;5;28;01mfor\u001b[39;00m j \u001b[38;5;129;01min\u001b[39;00m \u001b[38;5;28mrange\u001b[39m(num_points)],\n\u001b[0;32m--> 511\u001b[0m                          [beta[color] \u001b[38;5;241m-\u001b[39m \u001b[38;5;241m1\u001b[39m \u001b[38;5;28;01mif\u001b[39;00m color_flag[j] \u001b[38;5;241m==\u001b[39m color \u001b[38;5;28;01melse\u001b[39;00m beta[color] \u001b[38;5;28;01mfor\u001b[39;00m j \u001b[38;5;129;01min\u001b[39;00m \u001b[38;5;28mrange\u001b[39m(num_points)]]\n\u001b[1;32m    512\u001b[0m                         \u001b[38;5;28;01mfor\u001b[39;00m i \u001b[38;5;129;01min\u001b[39;00m \u001b[38;5;28mrange\u001b[39m(num_centers) \u001b[38;5;28;01mfor\u001b[39;00m color, _ \u001b[38;5;129;01min\u001b[39;00m beta\u001b[38;5;241m.\u001b[39mitems()]\n\u001b[1;32m    513\u001b[0m     alpha_constraints \u001b[38;5;241m=\u001b[39m [[[\u001b[38;5;124m\"\u001b[39m\u001b[38;5;124mx_\u001b[39m\u001b[38;5;132;01m{}\u001b[39;00m\u001b[38;5;124m_\u001b[39m\u001b[38;5;132;01m{}\u001b[39;00m\u001b[38;5;124m\"\u001b[39m\u001b[38;5;241m.\u001b[39mformat(j, i) \u001b[38;5;28;01mfor\u001b[39;00m j \u001b[38;5;129;01min\u001b[39;00m \u001b[38;5;28mrange\u001b[39m(num_points)],\n\u001b[1;32m    514\u001b[0m                           [np\u001b[38;5;241m.\u001b[39mround(\u001b[38;5;241m1\u001b[39m \u001b[38;5;241m-\u001b[39m alpha[color], decimals\u001b[38;5;241m=\u001b[39m\u001b[38;5;241m3\u001b[39m) \u001b[38;5;28;01mif\u001b[39;00m color_flag[j] \u001b[38;5;241m==\u001b[39m color \u001b[38;5;28;01melse\u001b[39;00m (\u001b[38;5;241m-\u001b[39m\u001b[38;5;241m1\u001b[39m) \u001b[38;5;241m*\u001b[39m alpha[color]\n\u001b[1;32m    515\u001b[0m                            \u001b[38;5;28;01mfor\u001b[39;00m j \u001b[38;5;129;01min\u001b[39;00m \u001b[38;5;28mrange\u001b[39m(num_points)]]\n\u001b[1;32m    516\u001b[0m                          \u001b[38;5;28;01mfor\u001b[39;00m i \u001b[38;5;129;01min\u001b[39;00m \u001b[38;5;28mrange\u001b[39m(num_centers) \u001b[38;5;28;01mfor\u001b[39;00m color, _ \u001b[38;5;129;01min\u001b[39;00m beta\u001b[38;5;241m.\u001b[39mitems()]\n\u001b[1;32m    517\u001b[0m     constraints \u001b[38;5;241m=\u001b[39m beta_constraints \u001b[38;5;241m+\u001b[39m alpha_constraints\n",
      "File \u001b[0;32m~/FCBC_code/Fair-Clustering-Under-Bounded-Cost/cplex_fair_assignment_lp_solver_util.py:511\u001b[0m, in \u001b[0;36m<listcomp>\u001b[0;34m(.0)\u001b[0m\n\u001b[1;32m    508\u001b[0m \u001b[38;5;28;01mdef\u001b[39;00m\u001b[38;5;250m \u001b[39m\u001b[38;5;21mconstraint_color\u001b[39m(num_points, num_centers, color_flag, beta, alpha):\n\u001b[1;32m    510\u001b[0m     beta_constraints \u001b[38;5;241m=\u001b[39m [[[\u001b[38;5;124m\"\u001b[39m\u001b[38;5;124mx_\u001b[39m\u001b[38;5;132;01m{}\u001b[39;00m\u001b[38;5;124m_\u001b[39m\u001b[38;5;132;01m{}\u001b[39;00m\u001b[38;5;124m\"\u001b[39m\u001b[38;5;241m.\u001b[39mformat(j, i) \u001b[38;5;28;01mfor\u001b[39;00m j \u001b[38;5;129;01min\u001b[39;00m \u001b[38;5;28mrange\u001b[39m(num_points)],\n\u001b[0;32m--> 511\u001b[0m                          [beta[color] \u001b[38;5;241m-\u001b[39m \u001b[38;5;241m1\u001b[39m \u001b[38;5;28;01mif\u001b[39;00m \u001b[43mcolor_flag\u001b[49m\u001b[43m[\u001b[49m\u001b[43mj\u001b[49m\u001b[43m]\u001b[49m \u001b[38;5;241m==\u001b[39m color \u001b[38;5;28;01melse\u001b[39;00m beta[color] \u001b[38;5;28;01mfor\u001b[39;00m j \u001b[38;5;129;01min\u001b[39;00m \u001b[38;5;28mrange\u001b[39m(num_points)]]\n\u001b[1;32m    512\u001b[0m                         \u001b[38;5;28;01mfor\u001b[39;00m i \u001b[38;5;129;01min\u001b[39;00m \u001b[38;5;28mrange\u001b[39m(num_centers) \u001b[38;5;28;01mfor\u001b[39;00m color, _ \u001b[38;5;129;01min\u001b[39;00m beta\u001b[38;5;241m.\u001b[39mitems()]\n\u001b[1;32m    513\u001b[0m     alpha_constraints \u001b[38;5;241m=\u001b[39m [[[\u001b[38;5;124m\"\u001b[39m\u001b[38;5;124mx_\u001b[39m\u001b[38;5;132;01m{}\u001b[39;00m\u001b[38;5;124m_\u001b[39m\u001b[38;5;132;01m{}\u001b[39;00m\u001b[38;5;124m\"\u001b[39m\u001b[38;5;241m.\u001b[39mformat(j, i) \u001b[38;5;28;01mfor\u001b[39;00m j \u001b[38;5;129;01min\u001b[39;00m \u001b[38;5;28mrange\u001b[39m(num_points)],\n\u001b[1;32m    514\u001b[0m                           [np\u001b[38;5;241m.\u001b[39mround(\u001b[38;5;241m1\u001b[39m \u001b[38;5;241m-\u001b[39m alpha[color], decimals\u001b[38;5;241m=\u001b[39m\u001b[38;5;241m3\u001b[39m) \u001b[38;5;28;01mif\u001b[39;00m color_flag[j] \u001b[38;5;241m==\u001b[39m color \u001b[38;5;28;01melse\u001b[39;00m (\u001b[38;5;241m-\u001b[39m\u001b[38;5;241m1\u001b[39m) \u001b[38;5;241m*\u001b[39m alpha[color]\n\u001b[1;32m    515\u001b[0m                            \u001b[38;5;28;01mfor\u001b[39;00m j \u001b[38;5;129;01min\u001b[39;00m \u001b[38;5;28mrange\u001b[39m(num_points)]]\n\u001b[1;32m    516\u001b[0m                          \u001b[38;5;28;01mfor\u001b[39;00m i \u001b[38;5;129;01min\u001b[39;00m \u001b[38;5;28mrange\u001b[39m(num_centers) \u001b[38;5;28;01mfor\u001b[39;00m color, _ \u001b[38;5;129;01min\u001b[39;00m beta\u001b[38;5;241m.\u001b[39mitems()]\n\u001b[1;32m    517\u001b[0m     constraints \u001b[38;5;241m=\u001b[39m beta_constraints \u001b[38;5;241m+\u001b[39m alpha_constraints\n",
      "\u001b[0;31mTypeError\u001b[0m: 'int' object is not subscriptable"
     ]
    }
   ],
   "source": [
    "import numpy as np\n",
    "import pandas as pd\n",
    "from sklearn.datasets import make_blobs\n",
    "from sklearn.preprocessing import OrdinalEncoder\n",
    "from cplex_fair_assignment_lp_solver_util import fair_partial_assignment_util\n",
    "from util.clusteringutil import vanilla_clustering\n",
    "from scipy.spatial.distance import cdist\n",
    "\n",
    "# Toy data\n",
    "X, _ = make_blobs(n_samples=50, centers=2, n_features=5, random_state=0)\n",
    "df = pd.DataFrame(X)\n",
    "\n",
    "# Arbitrary color flag: 0 for first half, 1 for second half\n",
    "color_flag = [0 if i < 25 else 1 for i in range(50)]\n",
    "\n",
    "# Proportions\n",
    "color_proportions = {0: 0.5, 1: 0.5}\n",
    "\n",
    "# Parameters\n",
    "num_colors = 2\n",
    "k = 5\n",
    "alpha = {i: 1.0 for i in range(num_colors)}\n",
    "beta = {i: 1.0 for i in range(num_colors)}\n",
    "\n",
    "# FCBC center selection\n",
    "_, _, centers = vanilla_clustering(X, k, clustering_method=\"kmeans\")\n",
    "\n",
    "# Distances\n",
    "distance_matrix = cdist(X, centers, metric=\"sqeuclidean\")\n",
    "\n",
    "# Run FCBC pipeline\n",
    "res = fair_partial_assignment_util(\n",
    "    df=pd.DataFrame(X),\n",
    "    centers=centers,\n",
    "    initial_score=distance_matrix,\n",
    "    delta=0.05,\n",
    "    color_proprtions=color_proportions,\n",
    "    alpha=alpha,\n",
    "    beta=beta,\n",
    "    color_flag=color_flag,\n",
    "    clustering_method=\"kmeans\",\n",
    "    num_colors=num_colors,\n",
    "    L=None,\n",
    "    epsilon=1e-5,\n",
    "    alpha_POF=1,\n",
    ")\n",
    "\n",
    "print(\"✅ FCBC pipeline ran successfully\")\n",
    "print(\"Final objective:\", res[\"objective\"])\n"
   ]
  },
  {
   "cell_type": "code",
   "execution_count": null,
   "id": "94f70be6-2a04-41c2-a898-9f8b2ddb2d82",
   "metadata": {},
   "outputs": [],
   "source": []
  }
 ],
 "metadata": {
  "kernelspec": {
   "display_name": "Python (cplex-env)",
   "language": "python",
   "name": "cplex-env"
  },
  "language_info": {
   "codemirror_mode": {
    "name": "ipython",
    "version": 3
   },
   "file_extension": ".py",
   "mimetype": "text/x-python",
   "name": "python",
   "nbconvert_exporter": "python",
   "pygments_lexer": "ipython3",
   "version": "3.10.17"
  }
 },
 "nbformat": 4,
 "nbformat_minor": 5
}
