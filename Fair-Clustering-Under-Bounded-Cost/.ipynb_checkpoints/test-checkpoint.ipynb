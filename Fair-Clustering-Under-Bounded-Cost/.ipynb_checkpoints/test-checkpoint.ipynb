{
 "cells": [
  {
   "cell_type": "code",
   "execution_count": 17,
   "id": "fb40490c-6139-40a3-9408-c8913edd4575",
   "metadata": {},
   "outputs": [
    {
     "name": "stdout",
     "output_type": "stream",
     "text": [
      "Filtered adult dataset size: 45222\n"
     ]
    },
    {
     "ename": "TypeError",
     "evalue": "fair_partial_assignment_util() got an unexpected keyword argument 'cluster_centers'",
     "output_type": "error",
     "traceback": [
      "\u001b[0;31m---------------------------------------------------------------------------\u001b[0m",
      "\u001b[0;31mTypeError\u001b[0m                                 Traceback (most recent call last)",
      "Cell \u001b[0;32mIn[17], line 45\u001b[0m\n\u001b[1;32m     42\u001b[0m distance_matrix \u001b[38;5;241m=\u001b[39m cdist(X_normalized, centers, metric\u001b[38;5;241m=\u001b[39m\u001b[38;5;124m'\u001b[39m\u001b[38;5;124msqeuclidean\u001b[39m\u001b[38;5;124m'\u001b[39m)\n\u001b[1;32m     44\u001b[0m \u001b[38;5;66;03m# ==== Step 4: Run FCBC LP + Rounding pipeline ====\u001b[39;00m\n\u001b[0;32m---> 45\u001b[0m result \u001b[38;5;241m=\u001b[39m \u001b[43mfair_partial_assignment_util\u001b[49m\u001b[43m(\u001b[49m\n\u001b[1;32m     46\u001b[0m \u001b[43m    \u001b[49m\u001b[43mdf\u001b[49m\u001b[38;5;241;43m=\u001b[39;49m\u001b[43mX_normalized\u001b[49m\u001b[43m,\u001b[49m\n\u001b[1;32m     47\u001b[0m \u001b[43m    \u001b[49m\u001b[43mcluster_centers\u001b[49m\u001b[38;5;241;43m=\u001b[39;49m\u001b[43mcenters\u001b[49m\u001b[43m,\u001b[49m\n\u001b[1;32m     48\u001b[0m \u001b[43m    \u001b[49m\u001b[43minitial_score\u001b[49m\u001b[38;5;241;43m=\u001b[39;49m\u001b[43mdistance_matrix\u001b[49m\u001b[43m,\u001b[49m\n\u001b[1;32m     49\u001b[0m \u001b[43m    \u001b[49m\u001b[43mdelta\u001b[49m\u001b[38;5;241;43m=\u001b[39;49m\u001b[38;5;241;43m0.05\u001b[39;49m\u001b[43m,\u001b[49m\n\u001b[1;32m     50\u001b[0m \u001b[43m    \u001b[49m\u001b[43mcolor_proprtions\u001b[49m\u001b[38;5;241;43m=\u001b[39;49m\u001b[38;5;28;43;01mNone\u001b[39;49;00m\u001b[43m,\u001b[49m\n\u001b[1;32m     51\u001b[0m \u001b[43m    \u001b[49m\u001b[43malpha\u001b[49m\u001b[38;5;241;43m=\u001b[39;49m\u001b[38;5;241;43m1\u001b[39;49m\u001b[43m,\u001b[49m\n\u001b[1;32m     52\u001b[0m \u001b[43m    \u001b[49m\u001b[43mbeta\u001b[49m\u001b[38;5;241;43m=\u001b[39;49m\u001b[38;5;241;43m1\u001b[39;49m\u001b[43m,\u001b[49m\n\u001b[1;32m     53\u001b[0m \u001b[43m    \u001b[49m\u001b[43mcolor_flag\u001b[49m\u001b[38;5;241;43m=\u001b[39;49m\u001b[43mcolor_flag\u001b[49m\u001b[43m,\u001b[49m\n\u001b[1;32m     54\u001b[0m \u001b[43m    \u001b[49m\u001b[43mclustering_method\u001b[49m\u001b[38;5;241;43m=\u001b[39;49m\u001b[38;5;124;43m\"\u001b[39;49m\u001b[38;5;124;43mkmeans\u001b[39;49m\u001b[38;5;124;43m\"\u001b[39;49m\u001b[43m,\u001b[49m\n\u001b[1;32m     55\u001b[0m \u001b[43m    \u001b[49m\u001b[43mnum_colors\u001b[49m\u001b[38;5;241;43m=\u001b[39;49m\u001b[38;5;241;43m2\u001b[39;49m\u001b[43m,\u001b[49m\n\u001b[1;32m     56\u001b[0m \u001b[43m    \u001b[49m\u001b[43mL\u001b[49m\u001b[38;5;241;43m=\u001b[39;49m\u001b[38;5;28;43;01mNone\u001b[39;49;00m\u001b[43m,\u001b[49m\n\u001b[1;32m     57\u001b[0m \u001b[43m    \u001b[49m\u001b[43mepsilon\u001b[49m\u001b[38;5;241;43m=\u001b[39;49m\u001b[38;5;241;43m1e-5\u001b[39;49m\u001b[43m,\u001b[49m\n\u001b[1;32m     58\u001b[0m \u001b[43m    \u001b[49m\u001b[43malpha_POF\u001b[49m\u001b[38;5;241;43m=\u001b[39;49m\u001b[38;5;241;43m1\u001b[39;49m\n\u001b[1;32m     59\u001b[0m \u001b[43m)\u001b[49m\n\u001b[1;32m     61\u001b[0m \u001b[38;5;66;03m# ==== Step 5: Print final result summary ====\u001b[39;00m\n\u001b[1;32m     62\u001b[0m \u001b[38;5;28mprint\u001b[39m(\u001b[38;5;124m\"\u001b[39m\u001b[38;5;130;01m\\n\u001b[39;00m\u001b[38;5;124m✅ FCBC pipeline completed on Adult subset\u001b[39m\u001b[38;5;130;01m\\n\u001b[39;00m\u001b[38;5;124m\"\u001b[39m)\n",
      "\u001b[0;31mTypeError\u001b[0m: fair_partial_assignment_util() got an unexpected keyword argument 'cluster_centers'"
     ]
    }
   ],
   "source": [
    "import numpy as np\n",
    "import pandas as pd\n",
    "from fairlearn.datasets import fetch_adult\n",
    "from sklearn.preprocessing import OrdinalEncoder\n",
    "from cplex_fair_assignment_lp_solver_util import fair_partial_assignment_util\n",
    "from util.clusteringutil import vanilla_clustering\n",
    "from scipy.spatial.distance import cdist\n",
    "import sys, os\n",
    "\n",
    "# Ensure local modules can be imported\n",
    "try:\n",
    "    sys.path.append(os.path.dirname(os.path.abspath(__file__)))\n",
    "except NameError:\n",
    "    sys.path.append(os.getcwd())\n",
    "\n",
    "# ==== Step 1: Load and preprocess a small subset of the Adult dataset ====\n",
    "\n",
    "data = fetch_adult(as_frame=True)\n",
    "df_full = data.data.copy()  # Already includes 'sex' column\n",
    "\n",
    "# Only use Male/Female rows and drop missing\n",
    "filtered = df_full[df_full['sex'].isin(['Male', 'Female'])].dropna()\n",
    "print(\"Filtered adult dataset size:\", len(filtered))\n",
    "\n",
    "# Take a small safe subset\n",
    "n_samples = min(100, len(filtered))\n",
    "df_small = filtered.sample(n=n_samples, random_state=0)\n",
    "\n",
    "# Ordinal encode and normalize\n",
    "encoder = OrdinalEncoder()\n",
    "X_encoded = encoder.fit_transform(df_small.drop(columns=['sex']))\n",
    "X_normalized = (X_encoded - X_encoded.mean(axis=0)) / X_encoded.std(axis=0)\n",
    "\n",
    "# Color flag: Female=1, Male=0\n",
    "color_flag = (df_small['sex'] == 'Female').astype(int).tolist()\n",
    "\n",
    "# ==== Step 2: Choose centers using FCBC's vanilla_clustering ====\n",
    "k = 5  # number of clusters\n",
    "_, _, centers = vanilla_clustering(X_normalized, k, clustering_method=\"kmeans\")\n",
    "\n",
    "# ==== Step 3: Compute distance matrix ====\n",
    "distance_matrix = cdist(X_normalized, centers, metric='sqeuclidean')\n",
    "\n",
    "# ==== Step 4: Run FCBC LP + Rounding pipeline ====\n",
    "result = fair_partial_assignment_util(\n",
    "    df=X_normalized,\n",
    "    centers=centers,\n",
    "    initial_score=distance_matrix,\n",
    "    delta=0.05,\n",
    "    color_proprtions=None,\n",
    "    alpha=1,\n",
    "    beta=1,\n",
    "    color_flag=color_flag,\n",
    "    clustering_method=\"kmeans\",\n",
    "    num_colors=2,\n",
    "    L=None,\n",
    "    epsilon=1e-5,\n",
    "    alpha_POF=1\n",
    ")\n",
    "\n",
    "# ==== Step 5: Print final result summary ====\n",
    "print(\"\\n✅ FCBC pipeline completed on Adult subset\\n\")\n",
    "print(\"Final objective value:\", result[\"objective\"])\n",
    "print(\"Rounded color proportions (normalized):\", result[\"proportions_normalized\"])\n",
    "print(\"LP color proportions (normalized):\", result[\"partial_proportions_normalized\"])\n",
    "\n",
    "# Optional: Inspect assignments\n",
    "assignments = np.array(result['assignment']).reshape((-1, k))\n",
    "print(\"\\nCluster sizes:\", np.sum(assignments, axis=0))\n"
   ]
  },
  {
   "cell_type": "code",
   "execution_count": null,
   "id": "4b5b7f7f-2813-490a-a455-8e25f07b934f",
   "metadata": {},
   "outputs": [],
   "source": []
  }
 ],
 "metadata": {
  "kernelspec": {
   "display_name": "Python (cplex-env)",
   "language": "python",
   "name": "cplex-env"
  },
  "language_info": {
   "codemirror_mode": {
    "name": "ipython",
    "version": 3
   },
   "file_extension": ".py",
   "mimetype": "text/x-python",
   "name": "python",
   "nbconvert_exporter": "python",
   "pygments_lexer": "ipython3",
   "version": "3.10.17"
  }
 },
 "nbformat": 4,
 "nbformat_minor": 5
}
