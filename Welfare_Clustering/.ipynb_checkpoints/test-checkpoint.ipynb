{
 "cells": [
  {
   "cell_type": "code",
   "execution_count": 1,
   "id": "0f4b52f2-6a58-4ea7-846b-e224098ad724",
   "metadata": {},
   "outputs": [],
   "source": [
    "import numpy as np\n",
    "import pandas as pd\n",
    "from sklearn.preprocessing import OrdinalEncoder\n",
    "from fairlearn.datasets import fetch_adult\n",
    "from scipy.io import loadmat\n",
    "from scipy.spatial.distance import cdist\n",
    "from lp_solver import run_connector_and_solve_lp\n",
    "from min_cost_rounding import rounding_wrapper\n",
    "from clustering_utils import give_rand_centers, lloyd, comp_cost  # assumed helper functions\n",
    "\n"
   ]
  },
  {
   "cell_type": "code",
   "execution_count": 2,
   "id": "c7188d89-a7b5-49e0-ae20-7a96c721212c",
   "metadata": {},
   "outputs": [],
   "source": [
    "from main_wc import load_data, normalize_data,socially_fair_kmeans"
   ]
  },
  {
   "cell_type": "code",
   "execution_count": 3,
   "id": "34eb6da5-82a4-4075-a0b1-2d7f452ddecb",
   "metadata": {},
   "outputs": [
    {
     "name": "stdout",
     "output_type": "stream",
     "text": [
      "Centers shape: (10, 14)\n"
     ]
    }
   ],
   "source": [
    "data_all, svar_all, _ = load_data(\"adult\")\n",
    "data_normalized = normalize_data(data_all)\n",
    "centers = socially_fair_kmeans(data_normalized, svar_all, k=10)\n",
    "print(\"Centers shape:\", centers.shape)"
   ]
  },
  {
   "cell_type": "code",
   "execution_count": null,
   "id": "e4b6a8de-ba57-4bda-ba33-4da234c2c6d3",
   "metadata": {},
   "outputs": [],
   "source": []
  },
  {
   "cell_type": "code",
   "execution_count": null,
   "id": "6c6de3ac-e96a-4960-9a9e-939e2d9147c4",
   "metadata": {},
   "outputs": [],
   "source": []
  },
  {
   "cell_type": "code",
   "execution_count": null,
   "id": "78045914-fd62-4b04-b836-dba9cb2ec1fd",
   "metadata": {},
   "outputs": [],
   "source": []
  }
 ],
 "metadata": {
  "kernelspec": {
   "display_name": "Python (cplex-env)",
   "language": "python",
   "name": "cplex-env"
  },
  "language_info": {
   "codemirror_mode": {
    "name": "ipython",
    "version": 3
   },
   "file_extension": ".py",
   "mimetype": "text/x-python",
   "name": "python",
   "nbconvert_exporter": "python",
   "pygments_lexer": "ipython3",
   "version": "3.10.17"
  }
 },
 "nbformat": 4,
 "nbformat_minor": 5
}
